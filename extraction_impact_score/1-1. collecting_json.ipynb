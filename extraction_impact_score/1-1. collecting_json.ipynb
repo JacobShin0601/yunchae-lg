{
 "cells": [
  {
   "cell_type": "markdown",
   "metadata": {},
   "source": []
  },
  {
   "cell_type": "markdown",
   "metadata": {},
   "source": []
  },
  {
   "cell_type": "code",
   "execution_count": 2,
   "metadata": {},
   "outputs": [],
   "source": [
    "import glob\n",
    "import os\n",
    "import time\n",
    "import json \n",
    "from datetime import date, datetime, timedelta\n",
    "from dotenv import load_dotenv\n",
    "\n",
    "from src.utils import get_config, get_rfc_date, get_key_config, is_working, dump_file\n",
    "from src.thirdparty.youtube_fn import YouTubeAPI\n",
    "from src.wrapper import youtube_summary_wrapper\n"
   ]
  },
  {
   "cell_type": "code",
   "execution_count": 3,
   "metadata": {},
   "outputs": [],
   "source": [
    "## time elapse check\n",
    "load_dotenv()\n",
    "\n",
    "target_start_date = \"2018-01-01\"\n",
    "args = {'option':'youtube', \n",
    "        'youtube_option':'query', \n",
    "        'get_results':10, \n",
    "        'date_before':7, \n",
    "        'target_date':target_start_date, \n",
    "        'aws_env':False, \n",
    "        'num_of_comments':3, \n",
    "        'day_of_the_week':'Mon'}\n",
    "\n",
    "config = {\n",
    "            \"LLM\" : {\n",
    "                \"max_tokens\" : 2000,\n",
    "                \"temperature\" : 0.0\n",
    "            },\n",
    "            \"Channel\" : {\n",
    "                \"channel_id\" : [\n",
    "                    \"UCEjOSbbaOfgnfRODEEMYlCw\",\n",
    "                    \"UCj9yUGuMVVdm2DqyvJPUeUQ\",\n",
    "                    \"UCvJJ_dzjViJCoLf5uKUTwoA\",\n",
    "                    \"UCjzi56cxvmEDwjo1Bd2Yxpg\",\n",
    "                    \"UCUBHuG2jnmRYu8AyKuGGing\",\n",
    "                    \"UC32lvHvH7uAeKM7ybVwl2JQ\",\n",
    "                    \"UCDLCUoNT_y-CCgiBAHNNuRg\",\n",
    "                    \"UCvADSaOPH2z9NNQY-6Sn_FA\",\n",
    "                    \"UC675NhQ4EU5TzwCMwYp5XCw\",\n",
    "                    \"UCrp_UI8XtuYfpiqluWLD7Lw\"\n",
    "                ],\n",
    "                \"keywords\":[\n",
    "                    \"LITHIUM PRICE\",\n",
    "                    \"LITHIUM GLOBAL DEMAND\",\n",
    "                    \"LITHIUM SUPPLY CHAIN\",\n",
    "                    \"LITHIUM INVESTMENT\"\n",
    "\n",
    "                ]\n",
    "            },\n",
    "            \"Query\" : {\n",
    "                \"query\" : ['\"SK On\"', 'SK On', 'SK Battery', 'Battery SK']\n",
    "            }\n",
    "        }"
   ]
  },
  {
   "cell_type": "code",
   "execution_count": 4,
   "metadata": {},
   "outputs": [],
   "source": [
    "target_start_date = '2018-01-01'\n",
    "[publishedAfter, publishedBefore] = get_rfc_date(date=datetime.strptime(target_start_date, \"%Y-%m-%d\"), before_days=7)\n",
    "\n",
    "key_config = {}\n",
    "key_config['Anthropic'] = {'key':os.environ.get('ANTHROPIC_API')}\n",
    "key_config['youtube_api'] = {'key':os.environ.get('YOUTUBE_API')}\n",
    "# print(key_config)\n",
    "\n",
    "\n",
    "youtube = YouTubeAPI(\n",
    "    api_key = key_config['youtube_api']['key'],\n",
    "    service_name=\"youtube\",\n",
    "    version=\"v3\",\n",
    "    publishedAfter=publishedAfter,\n",
    "    publishedBefore=publishedBefore        \n",
    ")"
   ]
  },
  {
   "cell_type": "code",
   "execution_count": 5,
   "metadata": {},
   "outputs": [],
   "source": [
    "# wrapper class\n",
    "def get_infos(target_date, args, config):\n",
    "    # print('args exist in get_infos:', args)\n",
    "    if target_date == 'now':\n",
    "        _videos = str(date.today().strftime('%Y-%m-%d') + '.json')\n",
    "    else:\n",
    "        _videos = str(target_date.strftime('%Y-%m-%d') + '.json')\n",
    "\n",
    "    ## search videos from youtube\n",
    "    if os.path.exists(_videos):\n",
    "        with open(_videos, 'r', encoding='utf-8') as json_file:\n",
    "            video_dict = json.load(json_file)\n",
    "    else:\n",
    "        video_dict = youtube.get_video_infos(args, config)\n",
    "\n",
    "        for category in video_dict.keys():\n",
    "            for video_info in video_dict[category]:\n",
    "                video_info['details'], video_info['duration'] = youtube.get_video_duration(video_info['id']['videoId'])\n",
    "                video_info['caption'] = youtube.get_caption(video_info['id']['videoId'])\n",
    "                video_info['statistics'] = youtube.get_statistics(video_info['id']['videoId'])\n",
    "                video_info['comments'] = youtube.get_comments(video_info['id']['videoId'])\n",
    "\n",
    "        dump_file(video_dict, target_date=target_date, aws_env=args['aws_env'])\n",
    "        \n",
    "    return print(f'file {target_date.strftime(\"%Y-%m-%d\")}.json saved!')"
   ]
  },
  {
   "cell_type": "code",
   "execution_count": 17,
   "metadata": {},
   "outputs": [
    {
     "name": "stdout",
     "output_type": "stream",
     "text": [
      "file 2024-05-27.json saved!\n"
     ]
    }
   ],
   "source": [
    "start_date = \"2024-05-27\"\n",
    "num_of_files = 1\n",
    "\n",
    "for i in range(num_of_files):\n",
    "    if i == 0:\n",
    "        target_start_date = start_date\n",
    "    else:\n",
    "        target_start_date = start_date\n",
    "        date_obj = datetime.strptime(target_start_date, \"%Y-%m-%d\")\n",
    "        delta = timedelta(days=7)\n",
    "        target_start_date = date_obj + delta*(i)\n",
    "        target_start_date = target_start_date.strftime('%Y-%m-%d')\n",
    "\n",
    "        [publishedAfter, publishedBefore] = get_rfc_date(date=datetime.strptime(target_start_date, \"%Y-%m-%d\"), before_days=7)\n",
    "\n",
    "        youtube = YouTubeAPI(\n",
    "            api_key = key_config['youtube_api']['key'],\n",
    "            service_name=\"youtube\",\n",
    "            version=\"v3\",\n",
    "            publishedAfter=publishedAfter,\n",
    "            publishedBefore=publishedBefore        \n",
    "        )\n",
    "\n",
    "    get_infos(datetime.strptime(target_start_date, \"%Y-%m-%d\"), args, config)"
   ]
  },
  {
   "cell_type": "code",
   "execution_count": null,
   "metadata": {},
   "outputs": [],
   "source": []
  }
 ],
 "metadata": {
  "kernelspec": {
   "display_name": "content_sum",
   "language": "python",
   "name": "python3"
  },
  "language_info": {
   "codemirror_mode": {
    "name": "ipython",
    "version": 3
   },
   "file_extension": ".py",
   "mimetype": "text/x-python",
   "name": "python",
   "nbconvert_exporter": "python",
   "pygments_lexer": "ipython3",
   "version": "3.10.14"
  }
 },
 "nbformat": 4,
 "nbformat_minor": 2
}
